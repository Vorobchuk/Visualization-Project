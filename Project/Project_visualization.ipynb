{
 "cells": [
  {
   "cell_type": "markdown",
   "metadata": {},
   "source": [
    "# Bike Sales Project"
   ]
  },
  {
   "cell_type": "markdown",
   "metadata": {},
   "source": [
    "In this project I decided to explore the dataset that consist of sales data of several countries of different bikes, their accessoires and some clothes."
   ]
  },
  {
   "cell_type": "markdown",
   "metadata": {},
   "source": [
    "The data source:\n",
    "https://www.kaggle.com/sadiqshah/bike-sales-in-europe"
   ]
  },
  {
   "cell_type": "markdown",
   "metadata": {},
   "source": [
    "Such exploration can be useful for marketing purposes, that is why it was interesting for me to try to make some research of the dataset."
   ]
  },
  {
   "cell_type": "code",
   "execution_count": 1,
   "metadata": {},
   "outputs": [],
   "source": [
    "import pandas as pd\n",
    "import altair as alt\n",
    "import geopandas as gpd"
   ]
  },
  {
   "cell_type": "code",
   "execution_count": 2,
   "metadata": {},
   "outputs": [],
   "source": [
    "df = pd.read_csv('Sales.csv')"
   ]
  },
  {
   "cell_type": "markdown",
   "metadata": {},
   "source": [
    "### Let's make some overview of the dataset."
   ]
  },
  {
   "cell_type": "code",
   "execution_count": 3,
   "metadata": {},
   "outputs": [
    {
     "data": {
      "text/html": [
       "<div>\n",
       "<style scoped>\n",
       "    .dataframe tbody tr th:only-of-type {\n",
       "        vertical-align: middle;\n",
       "    }\n",
       "\n",
       "    .dataframe tbody tr th {\n",
       "        vertical-align: top;\n",
       "    }\n",
       "\n",
       "    .dataframe thead th {\n",
       "        text-align: right;\n",
       "    }\n",
       "</style>\n",
       "<table border=\"1\" class=\"dataframe\">\n",
       "  <thead>\n",
       "    <tr style=\"text-align: right;\">\n",
       "      <th></th>\n",
       "      <th>Date</th>\n",
       "      <th>Day</th>\n",
       "      <th>Month</th>\n",
       "      <th>Year</th>\n",
       "      <th>Customer_Age</th>\n",
       "      <th>Age_Group</th>\n",
       "      <th>Customer_Gender</th>\n",
       "      <th>Country</th>\n",
       "      <th>State</th>\n",
       "      <th>Product_Category</th>\n",
       "      <th>Sub_Category</th>\n",
       "      <th>Product</th>\n",
       "      <th>Order_Quantity</th>\n",
       "      <th>Unit_Cost</th>\n",
       "      <th>Unit_Price</th>\n",
       "      <th>Profit</th>\n",
       "      <th>Cost</th>\n",
       "      <th>Revenue</th>\n",
       "    </tr>\n",
       "  </thead>\n",
       "  <tbody>\n",
       "    <tr>\n",
       "      <th>0</th>\n",
       "      <td>2013-11-26</td>\n",
       "      <td>26</td>\n",
       "      <td>November</td>\n",
       "      <td>2013</td>\n",
       "      <td>19</td>\n",
       "      <td>Youth (&lt;25)</td>\n",
       "      <td>M</td>\n",
       "      <td>Canada</td>\n",
       "      <td>British Columbia</td>\n",
       "      <td>Accessories</td>\n",
       "      <td>Bike Racks</td>\n",
       "      <td>Hitch Rack - 4-Bike</td>\n",
       "      <td>8</td>\n",
       "      <td>45</td>\n",
       "      <td>120</td>\n",
       "      <td>590</td>\n",
       "      <td>360</td>\n",
       "      <td>950</td>\n",
       "    </tr>\n",
       "    <tr>\n",
       "      <th>1</th>\n",
       "      <td>2015-11-26</td>\n",
       "      <td>26</td>\n",
       "      <td>November</td>\n",
       "      <td>2015</td>\n",
       "      <td>19</td>\n",
       "      <td>Youth (&lt;25)</td>\n",
       "      <td>M</td>\n",
       "      <td>Canada</td>\n",
       "      <td>British Columbia</td>\n",
       "      <td>Accessories</td>\n",
       "      <td>Bike Racks</td>\n",
       "      <td>Hitch Rack - 4-Bike</td>\n",
       "      <td>8</td>\n",
       "      <td>45</td>\n",
       "      <td>120</td>\n",
       "      <td>590</td>\n",
       "      <td>360</td>\n",
       "      <td>950</td>\n",
       "    </tr>\n",
       "    <tr>\n",
       "      <th>2</th>\n",
       "      <td>2014-03-23</td>\n",
       "      <td>23</td>\n",
       "      <td>March</td>\n",
       "      <td>2014</td>\n",
       "      <td>49</td>\n",
       "      <td>Adults (35-64)</td>\n",
       "      <td>M</td>\n",
       "      <td>Australia</td>\n",
       "      <td>New South Wales</td>\n",
       "      <td>Accessories</td>\n",
       "      <td>Bike Racks</td>\n",
       "      <td>Hitch Rack - 4-Bike</td>\n",
       "      <td>23</td>\n",
       "      <td>45</td>\n",
       "      <td>120</td>\n",
       "      <td>1366</td>\n",
       "      <td>1035</td>\n",
       "      <td>2401</td>\n",
       "    </tr>\n",
       "    <tr>\n",
       "      <th>3</th>\n",
       "      <td>2016-03-23</td>\n",
       "      <td>23</td>\n",
       "      <td>March</td>\n",
       "      <td>2016</td>\n",
       "      <td>49</td>\n",
       "      <td>Adults (35-64)</td>\n",
       "      <td>M</td>\n",
       "      <td>Australia</td>\n",
       "      <td>New South Wales</td>\n",
       "      <td>Accessories</td>\n",
       "      <td>Bike Racks</td>\n",
       "      <td>Hitch Rack - 4-Bike</td>\n",
       "      <td>20</td>\n",
       "      <td>45</td>\n",
       "      <td>120</td>\n",
       "      <td>1188</td>\n",
       "      <td>900</td>\n",
       "      <td>2088</td>\n",
       "    </tr>\n",
       "    <tr>\n",
       "      <th>4</th>\n",
       "      <td>2014-05-15</td>\n",
       "      <td>15</td>\n",
       "      <td>May</td>\n",
       "      <td>2014</td>\n",
       "      <td>47</td>\n",
       "      <td>Adults (35-64)</td>\n",
       "      <td>F</td>\n",
       "      <td>Australia</td>\n",
       "      <td>New South Wales</td>\n",
       "      <td>Accessories</td>\n",
       "      <td>Bike Racks</td>\n",
       "      <td>Hitch Rack - 4-Bike</td>\n",
       "      <td>4</td>\n",
       "      <td>45</td>\n",
       "      <td>120</td>\n",
       "      <td>238</td>\n",
       "      <td>180</td>\n",
       "      <td>418</td>\n",
       "    </tr>\n",
       "  </tbody>\n",
       "</table>\n",
       "</div>"
      ],
      "text/plain": [
       "         Date  Day     Month  Year  Customer_Age       Age_Group  \\\n",
       "0  2013-11-26   26  November  2013            19     Youth (<25)   \n",
       "1  2015-11-26   26  November  2015            19     Youth (<25)   \n",
       "2  2014-03-23   23     March  2014            49  Adults (35-64)   \n",
       "3  2016-03-23   23     March  2016            49  Adults (35-64)   \n",
       "4  2014-05-15   15       May  2014            47  Adults (35-64)   \n",
       "\n",
       "  Customer_Gender    Country             State Product_Category Sub_Category  \\\n",
       "0               M     Canada  British Columbia      Accessories   Bike Racks   \n",
       "1               M     Canada  British Columbia      Accessories   Bike Racks   \n",
       "2               M  Australia   New South Wales      Accessories   Bike Racks   \n",
       "3               M  Australia   New South Wales      Accessories   Bike Racks   \n",
       "4               F  Australia   New South Wales      Accessories   Bike Racks   \n",
       "\n",
       "               Product  Order_Quantity  Unit_Cost  Unit_Price  Profit  Cost  \\\n",
       "0  Hitch Rack - 4-Bike               8         45         120     590   360   \n",
       "1  Hitch Rack - 4-Bike               8         45         120     590   360   \n",
       "2  Hitch Rack - 4-Bike              23         45         120    1366  1035   \n",
       "3  Hitch Rack - 4-Bike              20         45         120    1188   900   \n",
       "4  Hitch Rack - 4-Bike               4         45         120     238   180   \n",
       "\n",
       "   Revenue  \n",
       "0      950  \n",
       "1      950  \n",
       "2     2401  \n",
       "3     2088  \n",
       "4      418  "
      ]
     },
     "execution_count": 3,
     "metadata": {},
     "output_type": "execute_result"
    }
   ],
   "source": [
    "df.head()"
   ]
  },
  {
   "cell_type": "markdown",
   "metadata": {},
   "source": [
    "### We have data from 6 countries and 6 years(2011-2016):"
   ]
  },
  {
   "cell_type": "code",
   "execution_count": 4,
   "metadata": {},
   "outputs": [
    {
     "data": {
      "text/plain": [
       "array(['Canada', 'Australia', 'United States', 'Germany', 'France',\n",
       "       'United Kingdom'], dtype=object)"
      ]
     },
     "execution_count": 4,
     "metadata": {},
     "output_type": "execute_result"
    }
   ],
   "source": [
    "df.Country.unique()"
   ]
  },
  {
   "cell_type": "code",
   "execution_count": 5,
   "metadata": {},
   "outputs": [
    {
     "data": {
      "text/plain": [
       "array([2013, 2015, 2014, 2016, 2012, 2011])"
      ]
     },
     "execution_count": 5,
     "metadata": {},
     "output_type": "execute_result"
    }
   ],
   "source": [
    "df.Year.unique()"
   ]
  },
  {
   "cell_type": "markdown",
   "metadata": {},
   "source": [
    "### Also we have 3 Product categories:"
   ]
  },
  {
   "cell_type": "code",
   "execution_count": 6,
   "metadata": {},
   "outputs": [
    {
     "data": {
      "text/plain": [
       "array(['Accessories', 'Clothing', 'Bikes'], dtype=object)"
      ]
     },
     "execution_count": 6,
     "metadata": {},
     "output_type": "execute_result"
    }
   ],
   "source": [
    "df.Product_Category.unique()"
   ]
  },
  {
   "cell_type": "code",
   "execution_count": 7,
   "metadata": {},
   "outputs": [
    {
     "data": {
      "text/plain": [
       "DataTransformerRegistry.enable('default')"
      ]
     },
     "execution_count": 7,
     "metadata": {},
     "output_type": "execute_result"
    }
   ],
   "source": [
    "alt.data_transformers.disable_max_rows()"
   ]
  },
  {
   "cell_type": "markdown",
   "metadata": {},
   "source": [
    "### What is the genaral Revenue according to country during different years?"
   ]
  },
  {
   "cell_type": "markdown",
   "metadata": {},
   "source": [
    "At first, I wanted to explore what country had the largest revenue from our products and how their revenue changed over years.\n",
    "\n",
    "I decided to use bar chart with the ability to change the year to visualize.\n",
    "It is very convinient to compare revenue among different countries with this type of chart, also color scales help to see the difference in values.\n",
    "Besides, we can clearly see how revenues changed over years as we have the same scale for all the years.\n",
    "\n",
    "Also, I thought to use the line chart, where color would represent each country,\n",
    "but with barchart it is easy to see what values belongs to each country, with line chart it would be more difficult."
   ]
  },
  {
   "cell_type": "code",
   "execution_count": 8,
   "metadata": {},
   "outputs": [],
   "source": [
    "df1 = df[['Year', 'Country', 'Revenue']]"
   ]
  },
  {
   "cell_type": "code",
   "execution_count": 9,
   "metadata": {},
   "outputs": [],
   "source": [
    "df1 = df1.groupby(['Year', 'Country']).sum()['Revenue'].reset_index() "
   ]
  },
  {
   "cell_type": "code",
   "execution_count": 10,
   "metadata": {},
   "outputs": [],
   "source": [
    "input_slider = alt.binding_range(min=df1.Year.min(), max=2016, step=1, name='Select year:')\n",
    "select_year = alt.selection_single(name=\"year\", fields = ['Year'], bind=input_slider, init = {'Year': 2011})"
   ]
  },
  {
   "cell_type": "code",
   "execution_count": 11,
   "metadata": {},
   "outputs": [],
   "source": [
    "c1 = alt.Chart(df1).mark_bar().encode(\n",
    "    x = alt.X('Country:N',\n",
    "             axis = alt.Axis(titleFontSize = 18, \n",
    "                             labelAngle = 0, \n",
    "                             labelFontSize = 13, \n",
    "                             titleY = 30)),\n",
    "    y = alt.Y('Revenue:Q', \n",
    "             axis = alt.Axis(format = '.1s', \n",
    "                             titleFontSize = 18, \n",
    "                             titleX = -50),\n",
    "             scale = alt.Scale(domain = [df1.Revenue.min(), df1.Revenue.max()])),\n",
    "    color=alt.Color('Revenue:Q',\n",
    "                    scale = alt.Scale(scheme = 'goldgreen', \n",
    "                                      domain = [df1.Revenue.min(), df1.Revenue.max()]),\n",
    "                    legend = alt.Legend(format = '.1s',\n",
    "                                        titleFontSize = 15)),\n",
    "    tooltip = alt.Tooltip('Revenue:Q', \n",
    "                          format = '.2s')\n",
    ").transform_filter(select_year\n",
    ").add_selection(select_year\n",
    ").properties(\n",
    "    title = 'Product revenue in different countries by years',\n",
    "    width = 800, \n",
    "    height = 600,\n",
    "    background = '#F9F9F9',\n",
    "    padding = 25\n",
    ").configure_title(fontSize = 20,\n",
    "                  dy = -25)"
   ]
  },
  {
   "cell_type": "code",
   "execution_count": 34,
   "metadata": {},
   "outputs": [
    {
     "data": {
      "text/html": [
       "\n",
       "<div id=\"altair-viz-3c6ca83db2db406dbbace68f52ca87a5\"></div>\n",
       "<script type=\"text/javascript\">\n",
       "  (function(spec, embedOpt){\n",
       "    let outputDiv = document.currentScript.previousElementSibling;\n",
       "    if (outputDiv.id !== \"altair-viz-3c6ca83db2db406dbbace68f52ca87a5\") {\n",
       "      outputDiv = document.getElementById(\"altair-viz-3c6ca83db2db406dbbace68f52ca87a5\");\n",
       "    }\n",
       "    const paths = {\n",
       "      \"vega\": \"https://cdn.jsdelivr.net/npm//vega@5?noext\",\n",
       "      \"vega-lib\": \"https://cdn.jsdelivr.net/npm//vega-lib?noext\",\n",
       "      \"vega-lite\": \"https://cdn.jsdelivr.net/npm//vega-lite@4.8.1?noext\",\n",
       "      \"vega-embed\": \"https://cdn.jsdelivr.net/npm//vega-embed@6?noext\",\n",
       "    };\n",
       "\n",
       "    function loadScript(lib) {\n",
       "      return new Promise(function(resolve, reject) {\n",
       "        var s = document.createElement('script');\n",
       "        s.src = paths[lib];\n",
       "        s.async = true;\n",
       "        s.onload = () => resolve(paths[lib]);\n",
       "        s.onerror = () => reject(`Error loading script: ${paths[lib]}`);\n",
       "        document.getElementsByTagName(\"head\")[0].appendChild(s);\n",
       "      });\n",
       "    }\n",
       "\n",
       "    function showError(err) {\n",
       "      outputDiv.innerHTML = `<div class=\"error\" style=\"color:red;\">${err}</div>`;\n",
       "      throw err;\n",
       "    }\n",
       "\n",
       "    function displayChart(vegaEmbed) {\n",
       "      vegaEmbed(outputDiv, spec, embedOpt)\n",
       "        .catch(err => showError(`Javascript Error: ${err.message}<br>This usually means there's a typo in your chart specification. See the javascript console for the full traceback.`));\n",
       "    }\n",
       "\n",
       "    if(typeof define === \"function\" && define.amd) {\n",
       "      requirejs.config({paths});\n",
       "      require([\"vega-embed\"], displayChart, err => showError(`Error loading script: ${err.message}`));\n",
       "    } else if (typeof vegaEmbed === \"function\") {\n",
       "      displayChart(vegaEmbed);\n",
       "    } else {\n",
       "      loadScript(\"vega\")\n",
       "        .then(() => loadScript(\"vega-lite\"))\n",
       "        .then(() => loadScript(\"vega-embed\"))\n",
       "        .catch(showError)\n",
       "        .then(() => displayChart(vegaEmbed));\n",
       "    }\n",
       "  })({\"config\": {\"view\": {\"continuousWidth\": 400, \"continuousHeight\": 300}, \"title\": {\"dy\": -25, \"fontSize\": 20}}, \"data\": {\"name\": \"data-55ecd9bd3c6d7e62a7ee79d75f5e761d\"}, \"mark\": \"bar\", \"background\": \"#F9F9F9\", \"encoding\": {\"color\": {\"type\": \"quantitative\", \"field\": \"Revenue\", \"legend\": {\"format\": \".1s\", \"titleFontSize\": 15}, \"scale\": {\"domain\": [789798, 6286498], \"scheme\": \"goldgreen\"}}, \"tooltip\": {\"type\": \"quantitative\", \"field\": \"Revenue\", \"format\": \".2s\"}, \"x\": {\"type\": \"nominal\", \"axis\": {\"labelAngle\": 0, \"labelFontSize\": 13, \"titleFontSize\": 18, \"titleY\": 30}, \"field\": \"Country\"}, \"y\": {\"type\": \"quantitative\", \"axis\": {\"format\": \".1s\", \"titleFontSize\": 18, \"titleX\": -50}, \"field\": \"Revenue\", \"scale\": {\"domain\": [789798, 6286498]}}}, \"height\": 600, \"padding\": 25, \"selection\": {\"year\": {\"type\": \"single\", \"fields\": [\"Year\"], \"bind\": {\"input\": \"range\", \"max\": 2016, \"min\": 2011, \"name\": \"Select year:\", \"step\": 1}, \"init\": {\"Year\": 2011}}}, \"title\": \"Product revenue in different countries by years\", \"transform\": [{\"filter\": {\"selection\": \"year\"}}], \"width\": 800, \"$schema\": \"https://vega.github.io/schema/vega-lite/v4.8.1.json\", \"datasets\": {\"data-55ecd9bd3c6d7e62a7ee79d75f5e761d\": [{\"Year\": 2011, \"Country\": \"Australia\", \"Revenue\": 2529914}, {\"Year\": 2011, \"Country\": \"Canada\", \"Revenue\": 789798}, {\"Year\": 2011, \"Country\": \"France\", \"Revenue\": 946624}, {\"Year\": 2011, \"Country\": \"Germany\", \"Revenue\": 833603}, {\"Year\": 2011, \"Country\": \"United Kingdom\", \"Revenue\": 823481}, {\"Year\": 2011, \"Country\": \"United States\", \"Revenue\": 3041468}, {\"Year\": 2012, \"Country\": \"Australia\", \"Revenue\": 2557511}, {\"Year\": 2012, \"Country\": \"Canada\", \"Revenue\": 835527}, {\"Year\": 2012, \"Country\": \"France\", \"Revenue\": 962153}, {\"Year\": 2012, \"Country\": \"Germany\", \"Revenue\": 835188}, {\"Year\": 2012, \"Country\": \"United Kingdom\", \"Revenue\": 834885}, {\"Year\": 2012, \"Country\": \"United States\", \"Revenue\": 3150719}, {\"Year\": 2013, \"Country\": \"Australia\", \"Revenue\": 4107470}, {\"Year\": 2013, \"Country\": \"Canada\", \"Revenue\": 1443537}, {\"Year\": 2013, \"Country\": \"France\", \"Revenue\": 1431870}, {\"Year\": 2013, \"Country\": \"Germany\", \"Revenue\": 1452704}, {\"Year\": 2013, \"Country\": \"United Kingdom\", \"Revenue\": 1868796}, {\"Year\": 2013, \"Country\": \"United States\", \"Revenue\": 4935660}, {\"Year\": 2014, \"Country\": \"Australia\", \"Revenue\": 2802842}, {\"Year\": 2014, \"Country\": \"Canada\", \"Revenue\": 1471522}, {\"Year\": 2014, \"Country\": \"France\", \"Revenue\": 1411100}, {\"Year\": 2014, \"Country\": \"Germany\", \"Revenue\": 1702508}, {\"Year\": 2014, \"Country\": \"United Kingdom\", \"Revenue\": 2014044}, {\"Year\": 2014, \"Country\": \"United States\", \"Revenue\": 4750708}, {\"Year\": 2015, \"Country\": \"Australia\", \"Revenue\": 5712339}, {\"Year\": 2015, \"Country\": \"Canada\", \"Revenue\": 1731954}, {\"Year\": 2015, \"Country\": \"France\", \"Revenue\": 1877928}, {\"Year\": 2015, \"Country\": \"Germany\", \"Revenue\": 1931091}, {\"Year\": 2015, \"Country\": \"United Kingdom\", \"Revenue\": 2484181}, {\"Year\": 2015, \"Country\": \"United States\", \"Revenue\": 6286498}, {\"Year\": 2016, \"Country\": \"Australia\", \"Revenue\": 3591983}, {\"Year\": 2016, \"Country\": \"Canada\", \"Revenue\": 1663400}, {\"Year\": 2016, \"Country\": \"France\", \"Revenue\": 1803197}, {\"Year\": 2016, \"Country\": \"Germany\", \"Revenue\": 2223502}, {\"Year\": 2016, \"Country\": \"United Kingdom\", \"Revenue\": 2620809}, {\"Year\": 2016, \"Country\": \"United States\", \"Revenue\": 5810494}]}}, {\"mode\": \"vega-lite\"});\n",
       "</script>"
      ],
      "text/plain": [
       "alt.Chart(...)"
      ]
     },
     "execution_count": 34,
     "metadata": {},
     "output_type": "execute_result"
    }
   ],
   "source": [
    "c1"
   ]
  },
  {
   "cell_type": "markdown",
   "metadata": {},
   "source": [
    "With this chart we see that the USA always had the largest revenue among all, also 2015 year was the most successfull regarding sales for all the countries."
   ]
  },
  {
   "cell_type": "markdown",
   "metadata": {},
   "source": [
    "## What was the Revenue structure of different Categories?"
   ]
  },
  {
   "cell_type": "markdown",
   "metadata": {},
   "source": [
    "The next step was to discover what category brings us the most of money. And how the revenues from each category changed over years.\n",
    "\n",
    "Here I decided to use point chart, where size and color represent the revenue.\n",
    "With this diagram we clearly see the most popular category by the revenues, but it is harder to understand the difference in values.\n",
    "\n",
    "In this question, I also thought about the bar chart or arear plot.\n",
    "These charts also would be suitable for this question. Maybe it would be even easier to compare the revenue between the categories with bar chart."
   ]
  },
  {
   "cell_type": "code",
   "execution_count": 13,
   "metadata": {},
   "outputs": [],
   "source": [
    "df2 = df[['Year', 'Product_Category', 'Revenue']]"
   ]
  },
  {
   "cell_type": "code",
   "execution_count": 14,
   "metadata": {},
   "outputs": [],
   "source": [
    "df2 = df2.groupby(['Year', 'Product_Category']).sum()['Revenue'].reset_index() "
   ]
  },
  {
   "cell_type": "code",
   "execution_count": 15,
   "metadata": {},
   "outputs": [],
   "source": [
    "c2 = alt.Chart(df2).mark_point(filled = True).encode(\n",
    "    x = alt.X('Year:N',\n",
    "             axis = alt.Axis(titleFontSize = 18,\n",
    "                             labelAngle = 0,\n",
    "                             labelFontSize = 14,\n",
    "                             titleY = 40)),\n",
    "    y = alt.Y('Product_Category:N',\n",
    "             axis = alt.Axis(title = 'Product Category',\n",
    "                             titleFontSize = 18,\n",
    "                             labelFontSize = 14)),\n",
    "    color=alt.Color('Revenue:Q', \n",
    "                    scale = alt.Scale(scheme = 'viridis'), \n",
    "                    legend = alt.Legend(format = '.1s')),\n",
    "    size = alt.Size('Revenue:Q',\n",
    "                    scale = alt.Scale(range = [1000, 5000])),\n",
    "    tooltip = alt.Tooltip('Revenue:Q',\n",
    "                          format = '.3s')\n",
    ").properties(title = 'Product revenue from different categories by years',\n",
    "            width = 800,\n",
    "            height = 600,\n",
    "            background = '#F9F9F9',\n",
    "            padding = 25\n",
    ").configure_title(fontSize = 22, \n",
    "                  dy = -25)"
   ]
  },
  {
   "cell_type": "code",
   "execution_count": 35,
   "metadata": {},
   "outputs": [
    {
     "data": {
      "text/html": [
       "\n",
       "<div id=\"altair-viz-20e32dd5621f4f22b65ae51cf875f25a\"></div>\n",
       "<script type=\"text/javascript\">\n",
       "  (function(spec, embedOpt){\n",
       "    let outputDiv = document.currentScript.previousElementSibling;\n",
       "    if (outputDiv.id !== \"altair-viz-20e32dd5621f4f22b65ae51cf875f25a\") {\n",
       "      outputDiv = document.getElementById(\"altair-viz-20e32dd5621f4f22b65ae51cf875f25a\");\n",
       "    }\n",
       "    const paths = {\n",
       "      \"vega\": \"https://cdn.jsdelivr.net/npm//vega@5?noext\",\n",
       "      \"vega-lib\": \"https://cdn.jsdelivr.net/npm//vega-lib?noext\",\n",
       "      \"vega-lite\": \"https://cdn.jsdelivr.net/npm//vega-lite@4.8.1?noext\",\n",
       "      \"vega-embed\": \"https://cdn.jsdelivr.net/npm//vega-embed@6?noext\",\n",
       "    };\n",
       "\n",
       "    function loadScript(lib) {\n",
       "      return new Promise(function(resolve, reject) {\n",
       "        var s = document.createElement('script');\n",
       "        s.src = paths[lib];\n",
       "        s.async = true;\n",
       "        s.onload = () => resolve(paths[lib]);\n",
       "        s.onerror = () => reject(`Error loading script: ${paths[lib]}`);\n",
       "        document.getElementsByTagName(\"head\")[0].appendChild(s);\n",
       "      });\n",
       "    }\n",
       "\n",
       "    function showError(err) {\n",
       "      outputDiv.innerHTML = `<div class=\"error\" style=\"color:red;\">${err}</div>`;\n",
       "      throw err;\n",
       "    }\n",
       "\n",
       "    function displayChart(vegaEmbed) {\n",
       "      vegaEmbed(outputDiv, spec, embedOpt)\n",
       "        .catch(err => showError(`Javascript Error: ${err.message}<br>This usually means there's a typo in your chart specification. See the javascript console for the full traceback.`));\n",
       "    }\n",
       "\n",
       "    if(typeof define === \"function\" && define.amd) {\n",
       "      requirejs.config({paths});\n",
       "      require([\"vega-embed\"], displayChart, err => showError(`Error loading script: ${err.message}`));\n",
       "    } else if (typeof vegaEmbed === \"function\") {\n",
       "      displayChart(vegaEmbed);\n",
       "    } else {\n",
       "      loadScript(\"vega\")\n",
       "        .then(() => loadScript(\"vega-lite\"))\n",
       "        .then(() => loadScript(\"vega-embed\"))\n",
       "        .catch(showError)\n",
       "        .then(() => displayChart(vegaEmbed));\n",
       "    }\n",
       "  })({\"config\": {\"view\": {\"continuousWidth\": 400, \"continuousHeight\": 300}, \"title\": {\"dy\": -25, \"fontSize\": 22}}, \"data\": {\"name\": \"data-d532088b7832754d110f085fb425bd58\"}, \"mark\": {\"type\": \"point\", \"filled\": true}, \"background\": \"#F9F9F9\", \"encoding\": {\"color\": {\"type\": \"quantitative\", \"field\": \"Revenue\", \"legend\": {\"format\": \".1s\"}, \"scale\": {\"scheme\": \"viridis\"}}, \"size\": {\"type\": \"quantitative\", \"field\": \"Revenue\", \"scale\": {\"range\": [1000, 5000]}}, \"tooltip\": {\"type\": \"quantitative\", \"field\": \"Revenue\", \"format\": \".3s\"}, \"x\": {\"type\": \"nominal\", \"axis\": {\"labelAngle\": 0, \"labelFontSize\": 14, \"titleFontSize\": 18, \"titleY\": 40}, \"field\": \"Year\"}, \"y\": {\"type\": \"nominal\", \"axis\": {\"labelFontSize\": 14, \"title\": \"Product Category\", \"titleFontSize\": 18}, \"field\": \"Product_Category\"}}, \"height\": 600, \"padding\": 25, \"title\": \"Product revenue from different categories by years\", \"width\": 800, \"$schema\": \"https://vega.github.io/schema/vega-lite/v4.8.1.json\", \"datasets\": {\"data-d532088b7832754d110f085fb425bd58\": [{\"Year\": 2011, \"Product_Category\": \"Bikes\", \"Revenue\": 8964888}, {\"Year\": 2012, \"Product_Category\": \"Bikes\", \"Revenue\": 9175983}, {\"Year\": 2013, \"Product_Category\": \"Accessories\", \"Revenue\": 3384215}, {\"Year\": 2013, \"Product_Category\": \"Bikes\", \"Revenue\": 9858787}, {\"Year\": 2013, \"Product_Category\": \"Clothing\", \"Revenue\": 1997035}, {\"Year\": 2014, \"Product_Category\": \"Accessories\", \"Revenue\": 4293592}, {\"Year\": 2014, \"Product_Category\": \"Bikes\", \"Revenue\": 7611243}, {\"Year\": 2014, \"Product_Category\": \"Clothing\", \"Revenue\": 2247889}, {\"Year\": 2015, \"Product_Category\": \"Accessories\", \"Revenue\": 3285954}, {\"Year\": 2015, \"Product_Category\": \"Bikes\", \"Revenue\": 14799083}, {\"Year\": 2015, \"Product_Category\": \"Clothing\", \"Revenue\": 1938954}, {\"Year\": 2016, \"Product_Category\": \"Accessories\", \"Revenue\": 4154231}, {\"Year\": 2016, \"Product_Category\": \"Bikes\", \"Revenue\": 11372150}, {\"Year\": 2016, \"Product_Category\": \"Clothing\", \"Revenue\": 2187004}]}}, {\"mode\": \"vega-lite\"});\n",
       "</script>"
      ],
      "text/plain": [
       "alt.Chart(...)"
      ]
     },
     "execution_count": 35,
     "metadata": {},
     "output_type": "execute_result"
    }
   ],
   "source": [
    "c2"
   ]
  },
  {
   "cell_type": "markdown",
   "metadata": {},
   "source": [
    "With this diagram we see that Bikes category always was the most popular, besides the products from the other two categories started to sell only from 2013"
   ]
  },
  {
   "cell_type": "markdown",
   "metadata": {},
   "source": [
    "## How Revenue structure vary in different countries?"
   ]
  },
  {
   "cell_type": "markdown",
   "metadata": {},
   "source": [
    "I also wanted to discover how revenues from the categories varied in different countries.\n",
    "\n",
    "To answer this question, I used the bar chart for each country. Each color represent the category.\n",
    "\n",
    "Here we could also use stacked bar chart, but with this type of diagram, it wouldn't be convinient to compare revenues from the same category between different countries."
   ]
  },
  {
   "cell_type": "code",
   "execution_count": 17,
   "metadata": {},
   "outputs": [],
   "source": [
    "df3 = df[['Country', 'Product_Category', 'Revenue']]"
   ]
  },
  {
   "cell_type": "code",
   "execution_count": 18,
   "metadata": {},
   "outputs": [],
   "source": [
    "df3 = df3.groupby(['Country', 'Product_Category']).sum()['Revenue'].reset_index()"
   ]
  },
  {
   "cell_type": "code",
   "execution_count": 19,
   "metadata": {},
   "outputs": [],
   "source": [
    "c3 = alt.Chart(df3).mark_bar().encode(\n",
    "    x = alt.X('Product_Category:N',\n",
    "             axis = alt.Axis(title= '',\n",
    "                             labelAngle = 0,\n",
    "                             labelFontSize = 11)),\n",
    "    y = alt.Y('Revenue:Q',\n",
    "             axis = alt.Axis(format = '.1s',\n",
    "                             titleFontSize = 18,\n",
    "                             titleX = -50)),\n",
    "    column = alt.Column('Country:N',\n",
    "                        title = ''),\n",
    "    color=alt.Color('Product_Category:N',\n",
    "                   legend = alt.Legend(title = 'Product Category',\n",
    "                                       titleFontSize = 17,\n",
    "                                       labelFontSize = 16)),\n",
    "        tooltip = alt.Tooltip('Revenue:N',\n",
    "                             format = '.3s'), \n",
    ").properties(title = 'Product revenue in different countries by categories',\n",
    "             width = 950/len(pd.unique(df3.Country)), \n",
    "             height = 600,\n",
    "             background = '#F9F9F9',\n",
    "             padding = 30\n",
    ").configure_title(fontSize = 20, anchor= 'middle', dy = -25)"
   ]
  },
  {
   "cell_type": "code",
   "execution_count": 36,
   "metadata": {},
   "outputs": [
    {
     "data": {
      "text/html": [
       "\n",
       "<div id=\"altair-viz-3a7cbfc8011041eeada1be9d62add62f\"></div>\n",
       "<script type=\"text/javascript\">\n",
       "  (function(spec, embedOpt){\n",
       "    let outputDiv = document.currentScript.previousElementSibling;\n",
       "    if (outputDiv.id !== \"altair-viz-3a7cbfc8011041eeada1be9d62add62f\") {\n",
       "      outputDiv = document.getElementById(\"altair-viz-3a7cbfc8011041eeada1be9d62add62f\");\n",
       "    }\n",
       "    const paths = {\n",
       "      \"vega\": \"https://cdn.jsdelivr.net/npm//vega@5?noext\",\n",
       "      \"vega-lib\": \"https://cdn.jsdelivr.net/npm//vega-lib?noext\",\n",
       "      \"vega-lite\": \"https://cdn.jsdelivr.net/npm//vega-lite@4.8.1?noext\",\n",
       "      \"vega-embed\": \"https://cdn.jsdelivr.net/npm//vega-embed@6?noext\",\n",
       "    };\n",
       "\n",
       "    function loadScript(lib) {\n",
       "      return new Promise(function(resolve, reject) {\n",
       "        var s = document.createElement('script');\n",
       "        s.src = paths[lib];\n",
       "        s.async = true;\n",
       "        s.onload = () => resolve(paths[lib]);\n",
       "        s.onerror = () => reject(`Error loading script: ${paths[lib]}`);\n",
       "        document.getElementsByTagName(\"head\")[0].appendChild(s);\n",
       "      });\n",
       "    }\n",
       "\n",
       "    function showError(err) {\n",
       "      outputDiv.innerHTML = `<div class=\"error\" style=\"color:red;\">${err}</div>`;\n",
       "      throw err;\n",
       "    }\n",
       "\n",
       "    function displayChart(vegaEmbed) {\n",
       "      vegaEmbed(outputDiv, spec, embedOpt)\n",
       "        .catch(err => showError(`Javascript Error: ${err.message}<br>This usually means there's a typo in your chart specification. See the javascript console for the full traceback.`));\n",
       "    }\n",
       "\n",
       "    if(typeof define === \"function\" && define.amd) {\n",
       "      requirejs.config({paths});\n",
       "      require([\"vega-embed\"], displayChart, err => showError(`Error loading script: ${err.message}`));\n",
       "    } else if (typeof vegaEmbed === \"function\") {\n",
       "      displayChart(vegaEmbed);\n",
       "    } else {\n",
       "      loadScript(\"vega\")\n",
       "        .then(() => loadScript(\"vega-lite\"))\n",
       "        .then(() => loadScript(\"vega-embed\"))\n",
       "        .catch(showError)\n",
       "        .then(() => displayChart(vegaEmbed));\n",
       "    }\n",
       "  })({\"config\": {\"view\": {\"continuousWidth\": 400, \"continuousHeight\": 300}, \"title\": {\"anchor\": \"middle\", \"dy\": -25, \"fontSize\": 20}}, \"data\": {\"name\": \"data-b89377320f3fb4904034e294d0dfd3dd\"}, \"mark\": \"bar\", \"background\": \"#F9F9F9\", \"encoding\": {\"color\": {\"type\": \"nominal\", \"field\": \"Product_Category\", \"legend\": {\"labelFontSize\": 16, \"title\": \"Product Category\", \"titleFontSize\": 17}}, \"column\": {\"type\": \"nominal\", \"field\": \"Country\", \"title\": \"\"}, \"tooltip\": {\"type\": \"nominal\", \"field\": \"Revenue\", \"format\": \".3s\"}, \"x\": {\"type\": \"nominal\", \"axis\": {\"labelAngle\": 0, \"labelFontSize\": 11, \"title\": \"\"}, \"field\": \"Product_Category\"}, \"y\": {\"type\": \"quantitative\", \"axis\": {\"format\": \".1s\", \"titleFontSize\": 18, \"titleX\": -50}, \"field\": \"Revenue\"}}, \"height\": 600, \"padding\": 30, \"title\": \"Product revenue in different countries by categories\", \"width\": 158.33333333333334, \"$schema\": \"https://vega.github.io/schema/vega-lite/v4.8.1.json\", \"datasets\": {\"data-b89377320f3fb4904034e294d0dfd3dd\": [{\"Country\": \"Australia\", \"Product_Category\": \"Accessories\", \"Revenue\": 2746405}, {\"Country\": \"Australia\", \"Product_Category\": \"Bikes\", \"Revenue\": 16952818}, {\"Country\": \"Australia\", \"Product_Category\": \"Clothing\", \"Revenue\": 1602836}, {\"Country\": \"Canada\", \"Product_Category\": \"Accessories\", \"Revenue\": 2282940}, {\"Country\": \"Canada\", \"Product_Category\": \"Bikes\", \"Revenue\": 4275003}, {\"Country\": \"Canada\", \"Product_Category\": \"Clothing\", \"Revenue\": 1377795}, {\"Country\": \"France\", \"Product_Category\": \"Accessories\", \"Revenue\": 1388053}, {\"Country\": \"France\", \"Product_Category\": \"Bikes\", \"Revenue\": 6324125}, {\"Country\": \"France\", \"Product_Category\": \"Clothing\", \"Revenue\": 720694}, {\"Country\": \"Germany\", \"Product_Category\": \"Accessories\", \"Revenue\": 1548818}, {\"Country\": \"Germany\", \"Product_Category\": \"Bikes\", \"Revenue\": 6792782}, {\"Country\": \"Germany\", \"Product_Category\": \"Clothing\", \"Revenue\": 636996}, {\"Country\": \"United Kingdom\", \"Product_Category\": \"Accessories\", \"Revenue\": 1873023}, {\"Country\": \"United Kingdom\", \"Product_Category\": \"Bikes\", \"Revenue\": 7856994}, {\"Country\": \"United Kingdom\", \"Product_Category\": \"Clothing\", \"Revenue\": 916179}, {\"Country\": \"United States\", \"Product_Category\": \"Accessories\", \"Revenue\": 5278753}, {\"Country\": \"United States\", \"Product_Category\": \"Bikes\", \"Revenue\": 19580412}, {\"Country\": \"United States\", \"Product_Category\": \"Clothing\", \"Revenue\": 3116382}]}}, {\"mode\": \"vega-lite\"});\n",
       "</script>"
      ],
      "text/plain": [
       "alt.Chart(...)"
      ]
     },
     "execution_count": 36,
     "metadata": {},
     "output_type": "execute_result"
    }
   ],
   "source": [
    "c3"
   ]
  },
  {
   "cell_type": "markdown",
   "metadata": {},
   "source": [
    "## What is the most popular Age Group in each country?"
   ]
  },
  {
   "cell_type": "markdown",
   "metadata": {},
   "source": [
    "In marketing, researches about the popularity of each age group are very widely used. So, it was interesting for me to discover this question.\n",
    "Also I decided to divide data by gender characteristic.\n",
    "\n",
    "Here I used the heatmap. With this chart it is easy to see the most popular age group in each country as it is the darkest shade of the color.\n",
    "The clear difference between values is harder to observe with the heatmap.\n",
    "However, this diagram was understandable for me when answering this question. "
   ]
  },
  {
   "cell_type": "code",
   "execution_count": 21,
   "metadata": {},
   "outputs": [],
   "source": [
    "df4 = df[['Country', 'Age_Group', 'Customer_Gender', 'Revenue']]"
   ]
  },
  {
   "cell_type": "code",
   "execution_count": 22,
   "metadata": {},
   "outputs": [],
   "source": [
    "df4 = df4.groupby(['Country', 'Age_Group', 'Customer_Gender']).mean()['Revenue'].reset_index() "
   ]
  },
  {
   "cell_type": "code",
   "execution_count": 23,
   "metadata": {},
   "outputs": [],
   "source": [
    "df4_f = df4[df4.Customer_Gender == 'F']\n",
    "df4_m = df4[df4.Customer_Gender == 'M']"
   ]
  },
  {
   "cell_type": "code",
   "execution_count": 24,
   "metadata": {},
   "outputs": [],
   "source": [
    "c4_1 = alt.Chart(df4_f).mark_rect().encode(\n",
    "    x = alt.X('Country:O',\n",
    "             axis = alt.Axis(labelAngle = 0,\n",
    "                             labelFontSize = 13,\n",
    "                             titleFontSize = 16,\n",
    "                             titleY = 35)),\n",
    "    y = alt.Y('Age_Group:O',\n",
    "             axis = alt.Axis(title = 'Age Group',\n",
    "                             labelFontSize = 13, \n",
    "                             titleFontSize = 16, \n",
    "                             titleX = -150)),\n",
    "    color = alt.Color('Revenue:Q',\n",
    "                      legend = alt.Legend(title = 'Revenue',\n",
    "                                          titleFontSize = 17), \n",
    "                      scale = alt.Scale(scheme = 'yellowgreen')),\n",
    "    tooltip = alt.Tooltip('Revenue:Q',\n",
    "                          format = '.3s')\n",
    ").properties(title = 'Product ravenue according to the age group in different countries (FEMALE)')"
   ]
  },
  {
   "cell_type": "code",
   "execution_count": 25,
   "metadata": {},
   "outputs": [],
   "source": [
    "c4_2 = alt.Chart(df4_m).mark_rect().encode(\n",
    "    x = alt.X('Country:O',\n",
    "             axis = alt.Axis(labelAngle = 0,\n",
    "                             labelFontSize = 13,\n",
    "                             titleFontSize = 16,\n",
    "                             titleY = 35)),\n",
    "    y = alt.Y('Age_Group:O',\n",
    "             axis = alt.Axis(title = 'Age Group',\n",
    "                             labelFontSize = 13,\n",
    "                             titleFontSize = 16,\n",
    "                             titleX = -150)),\n",
    "    color = alt.Color('Revenue:Q',\n",
    "                      legend = alt.Legend(title = 'Revenue',\n",
    "                                          titleFontSize = 17),\n",
    "                      scale = alt.Scale(scheme = 'yellowgreen')),\n",
    "    tooltip = alt.Tooltip('Revenue:Q',\n",
    "                          format = '.3s')\n",
    ").properties(title = 'Product ravenue according to the age group in different countries (MALE)')"
   ]
  },
  {
   "cell_type": "code",
   "execution_count": 26,
   "metadata": {},
   "outputs": [],
   "source": [
    "c4 = alt.hconcat(c4_1.properties(width = 600, height = 400), \n",
    "            c4_2.properties(width = 600, height = 400)\n",
    ").properties(background = '#F9F9F9',\n",
    "             padding = 25\n",
    ").configure_title(fontSize = 18, \n",
    "                  dy = -25\n",
    ").configure_concat(spacing = 35)"
   ]
  },
  {
   "cell_type": "code",
   "execution_count": 37,
   "metadata": {},
   "outputs": [
    {
     "data": {
      "text/html": [
       "\n",
       "<div id=\"altair-viz-69decc0fd7ca4a2e9895f402abced5c2\"></div>\n",
       "<script type=\"text/javascript\">\n",
       "  (function(spec, embedOpt){\n",
       "    let outputDiv = document.currentScript.previousElementSibling;\n",
       "    if (outputDiv.id !== \"altair-viz-69decc0fd7ca4a2e9895f402abced5c2\") {\n",
       "      outputDiv = document.getElementById(\"altair-viz-69decc0fd7ca4a2e9895f402abced5c2\");\n",
       "    }\n",
       "    const paths = {\n",
       "      \"vega\": \"https://cdn.jsdelivr.net/npm//vega@5?noext\",\n",
       "      \"vega-lib\": \"https://cdn.jsdelivr.net/npm//vega-lib?noext\",\n",
       "      \"vega-lite\": \"https://cdn.jsdelivr.net/npm//vega-lite@4.8.1?noext\",\n",
       "      \"vega-embed\": \"https://cdn.jsdelivr.net/npm//vega-embed@6?noext\",\n",
       "    };\n",
       "\n",
       "    function loadScript(lib) {\n",
       "      return new Promise(function(resolve, reject) {\n",
       "        var s = document.createElement('script');\n",
       "        s.src = paths[lib];\n",
       "        s.async = true;\n",
       "        s.onload = () => resolve(paths[lib]);\n",
       "        s.onerror = () => reject(`Error loading script: ${paths[lib]}`);\n",
       "        document.getElementsByTagName(\"head\")[0].appendChild(s);\n",
       "      });\n",
       "    }\n",
       "\n",
       "    function showError(err) {\n",
       "      outputDiv.innerHTML = `<div class=\"error\" style=\"color:red;\">${err}</div>`;\n",
       "      throw err;\n",
       "    }\n",
       "\n",
       "    function displayChart(vegaEmbed) {\n",
       "      vegaEmbed(outputDiv, spec, embedOpt)\n",
       "        .catch(err => showError(`Javascript Error: ${err.message}<br>This usually means there's a typo in your chart specification. See the javascript console for the full traceback.`));\n",
       "    }\n",
       "\n",
       "    if(typeof define === \"function\" && define.amd) {\n",
       "      requirejs.config({paths});\n",
       "      require([\"vega-embed\"], displayChart, err => showError(`Error loading script: ${err.message}`));\n",
       "    } else if (typeof vegaEmbed === \"function\") {\n",
       "      displayChart(vegaEmbed);\n",
       "    } else {\n",
       "      loadScript(\"vega\")\n",
       "        .then(() => loadScript(\"vega-lite\"))\n",
       "        .then(() => loadScript(\"vega-embed\"))\n",
       "        .catch(showError)\n",
       "        .then(() => displayChart(vegaEmbed));\n",
       "    }\n",
       "  })({\"config\": {\"view\": {\"continuousWidth\": 400, \"continuousHeight\": 300}, \"concat\": {\"spacing\": 35}, \"title\": {\"dy\": -25, \"fontSize\": 18}}, \"hconcat\": [{\"data\": {\"name\": \"data-55f5c602e61542bb7ffecd0d6c8d41a6\"}, \"mark\": \"rect\", \"encoding\": {\"color\": {\"type\": \"quantitative\", \"field\": \"Revenue\", \"legend\": {\"title\": \"Revenue\", \"titleFontSize\": 17}, \"scale\": {\"scheme\": \"yellowgreen\"}}, \"tooltip\": {\"type\": \"quantitative\", \"field\": \"Revenue\", \"format\": \".3s\"}, \"x\": {\"type\": \"ordinal\", \"axis\": {\"labelAngle\": 0, \"labelFontSize\": 13, \"titleFontSize\": 16, \"titleY\": 35}, \"field\": \"Country\"}, \"y\": {\"type\": \"ordinal\", \"axis\": {\"labelFontSize\": 13, \"title\": \"Age Group\", \"titleFontSize\": 16, \"titleX\": -150}, \"field\": \"Age_Group\"}}, \"height\": 400, \"title\": \"Product ravenue according to the age group in different countries (FEMALE)\", \"width\": 600}, {\"data\": {\"name\": \"data-87f1fe28ac81407691f60c5a396fc4a4\"}, \"mark\": \"rect\", \"encoding\": {\"color\": {\"type\": \"quantitative\", \"field\": \"Revenue\", \"legend\": {\"title\": \"Revenue\", \"titleFontSize\": 17}, \"scale\": {\"scheme\": \"yellowgreen\"}}, \"tooltip\": {\"type\": \"quantitative\", \"field\": \"Revenue\", \"format\": \".3s\"}, \"x\": {\"type\": \"ordinal\", \"axis\": {\"labelAngle\": 0, \"labelFontSize\": 13, \"titleFontSize\": 16, \"titleY\": 35}, \"field\": \"Country\"}, \"y\": {\"type\": \"ordinal\", \"axis\": {\"labelFontSize\": 13, \"title\": \"Age Group\", \"titleFontSize\": 16, \"titleX\": -150}, \"field\": \"Age_Group\"}}, \"height\": 400, \"title\": \"Product ravenue according to the age group in different countries (MALE)\", \"width\": 600}], \"background\": \"#F9F9F9\", \"padding\": 25, \"$schema\": \"https://vega.github.io/schema/vega-lite/v4.8.1.json\", \"datasets\": {\"data-55f5c602e61542bb7ffecd0d6c8d41a6\": [{\"Country\": \"Australia\", \"Age_Group\": \"Adults (35-64)\", \"Customer_Gender\": \"F\", \"Revenue\": 929.8186578743212}, {\"Country\": \"Australia\", \"Age_Group\": \"Seniors (64+)\", \"Customer_Gender\": \"F\", \"Revenue\": 1181.0}, {\"Country\": \"Australia\", \"Age_Group\": \"Young Adults (25-34)\", \"Customer_Gender\": \"F\", \"Revenue\": 966.2394303515799}, {\"Country\": \"Australia\", \"Age_Group\": \"Youth (<25)\", \"Customer_Gender\": \"F\", \"Revenue\": 926.7527173913044}, {\"Country\": \"Canada\", \"Age_Group\": \"Adults (35-64)\", \"Customer_Gender\": \"F\", \"Revenue\": 640.2392923649907}, {\"Country\": \"Canada\", \"Age_Group\": \"Seniors (64+)\", \"Customer_Gender\": \"F\", \"Revenue\": 300.8030303030303}, {\"Country\": \"Canada\", \"Age_Group\": \"Young Adults (25-34)\", \"Customer_Gender\": \"F\", \"Revenue\": 536.1654411764706}, {\"Country\": \"Canada\", \"Age_Group\": \"Youth (<25)\", \"Customer_Gender\": \"F\", \"Revenue\": 401.7257751937984}, {\"Country\": \"France\", \"Age_Group\": \"Adults (35-64)\", \"Customer_Gender\": \"F\", \"Revenue\": 786.5806988352746}, {\"Country\": \"France\", \"Age_Group\": \"Seniors (64+)\", \"Customer_Gender\": \"F\", \"Revenue\": 197.22916666666666}, {\"Country\": \"France\", \"Age_Group\": \"Young Adults (25-34)\", \"Customer_Gender\": \"F\", \"Revenue\": 742.4750905797101}, {\"Country\": \"France\", \"Age_Group\": \"Youth (<25)\", \"Customer_Gender\": \"F\", \"Revenue\": 562.664691943128}, {\"Country\": \"Germany\", \"Age_Group\": \"Adults (35-64)\", \"Customer_Gender\": \"F\", \"Revenue\": 914.5147527910685}, {\"Country\": \"Germany\", \"Age_Group\": \"Seniors (64+)\", \"Customer_Gender\": \"F\", \"Revenue\": 185.78947368421052}, {\"Country\": \"Germany\", \"Age_Group\": \"Young Adults (25-34)\", \"Customer_Gender\": \"F\", \"Revenue\": 840.7791017415216}, {\"Country\": \"Germany\", \"Age_Group\": \"Youth (<25)\", \"Customer_Gender\": \"F\", \"Revenue\": 696.1931279620853}, {\"Country\": \"United Kingdom\", \"Age_Group\": \"Adults (35-64)\", \"Customer_Gender\": \"F\", \"Revenue\": 768.4148216482165}, {\"Country\": \"United Kingdom\", \"Age_Group\": \"Seniors (64+)\", \"Customer_Gender\": \"F\", \"Revenue\": 330.55357142857144}, {\"Country\": \"United Kingdom\", \"Age_Group\": \"Young Adults (25-34)\", \"Customer_Gender\": \"F\", \"Revenue\": 826.213164777681}, {\"Country\": \"United Kingdom\", \"Age_Group\": \"Youth (<25)\", \"Customer_Gender\": \"F\", \"Revenue\": 787.0072072072072}, {\"Country\": \"United States\", \"Age_Group\": \"Adults (35-64)\", \"Customer_Gender\": \"F\", \"Revenue\": 705.3043438583683}, {\"Country\": \"United States\", \"Age_Group\": \"Seniors (64+)\", \"Customer_Gender\": \"F\", \"Revenue\": 511.4818181818182}, {\"Country\": \"United States\", \"Age_Group\": \"Young Adults (25-34)\", \"Customer_Gender\": \"F\", \"Revenue\": 803.71843575419}, {\"Country\": \"United States\", \"Age_Group\": \"Youth (<25)\", \"Customer_Gender\": \"F\", \"Revenue\": 515.34375}], \"data-87f1fe28ac81407691f60c5a396fc4a4\": [{\"Country\": \"Australia\", \"Age_Group\": \"Adults (35-64)\", \"Customer_Gender\": \"M\", \"Revenue\": 860.3913707521955}, {\"Country\": \"Australia\", \"Age_Group\": \"Seniors (64+)\", \"Customer_Gender\": \"M\", \"Revenue\": 860.8333333333334}, {\"Country\": \"Australia\", \"Age_Group\": \"Young Adults (25-34)\", \"Customer_Gender\": \"M\", \"Revenue\": 776.2621527777778}, {\"Country\": \"Australia\", \"Age_Group\": \"Youth (<25)\", \"Customer_Gender\": \"M\", \"Revenue\": 913.3013375295043}, {\"Country\": \"Canada\", \"Age_Group\": \"Adults (35-64)\", \"Customer_Gender\": \"M\", \"Revenue\": 596.203506097561}, {\"Country\": \"Canada\", \"Age_Group\": \"Seniors (64+)\", \"Customer_Gender\": \"M\", \"Revenue\": 414.58}, {\"Country\": \"Canada\", \"Age_Group\": \"Young Adults (25-34)\", \"Customer_Gender\": \"M\", \"Revenue\": 545.2468776019983}, {\"Country\": \"Canada\", \"Age_Group\": \"Youth (<25)\", \"Customer_Gender\": \"M\", \"Revenue\": 459.57341576506957}, {\"Country\": \"France\", \"Age_Group\": \"Adults (35-64)\", \"Customer_Gender\": \"M\", \"Revenue\": 726.5382031905962}, {\"Country\": \"France\", \"Age_Group\": \"Seniors (64+)\", \"Customer_Gender\": \"M\", \"Revenue\": 205.0909090909091}, {\"Country\": \"France\", \"Age_Group\": \"Young Adults (25-34)\", \"Customer_Gender\": \"M\", \"Revenue\": 927.6821672354948}, {\"Country\": \"France\", \"Age_Group\": \"Youth (<25)\", \"Customer_Gender\": \"M\", \"Revenue\": 681.739946380697}, {\"Country\": \"Germany\", \"Age_Group\": \"Adults (35-64)\", \"Customer_Gender\": \"M\", \"Revenue\": 758.7911016949153}, {\"Country\": \"Germany\", \"Age_Group\": \"Seniors (64+)\", \"Customer_Gender\": \"M\", \"Revenue\": 317.1764705882353}, {\"Country\": \"Germany\", \"Age_Group\": \"Young Adults (25-34)\", \"Customer_Gender\": \"M\", \"Revenue\": 841.6826320501343}, {\"Country\": \"Germany\", \"Age_Group\": \"Youth (<25)\", \"Customer_Gender\": \"M\", \"Revenue\": 651.7731481481482}, {\"Country\": \"United Kingdom\", \"Age_Group\": \"Adults (35-64)\", \"Customer_Gender\": \"M\", \"Revenue\": 795.6773341162655}, {\"Country\": \"United Kingdom\", \"Age_Group\": \"Seniors (64+)\", \"Customer_Gender\": \"M\", \"Revenue\": 439.7173913043478}, {\"Country\": \"United Kingdom\", \"Age_Group\": \"Young Adults (25-34)\", \"Customer_Gender\": \"M\", \"Revenue\": 799.472972972973}, {\"Country\": \"United Kingdom\", \"Age_Group\": \"Youth (<25)\", \"Customer_Gender\": \"M\", \"Revenue\": 667.9211045364891}, {\"Country\": \"United States\", \"Age_Group\": \"Adults (35-64)\", \"Customer_Gender\": \"M\", \"Revenue\": 748.0620796218869}, {\"Country\": \"United States\", \"Age_Group\": \"Seniors (64+)\", \"Customer_Gender\": \"M\", \"Revenue\": 445.2440476190476}, {\"Country\": \"United States\", \"Age_Group\": \"Young Adults (25-34)\", \"Customer_Gender\": \"M\", \"Revenue\": 774.1616949152542}, {\"Country\": \"United States\", \"Age_Group\": \"Youth (<25)\", \"Customer_Gender\": \"M\", \"Revenue\": 535.8397876327296}]}}, {\"mode\": \"vega-lite\"});\n",
       "</script>"
      ],
      "text/plain": [
       "alt.HConcatChart(...)"
      ]
     },
     "execution_count": 37,
     "metadata": {},
     "output_type": "execute_result"
    }
   ],
   "source": [
    "c4"
   ]
  },
  {
   "cell_type": "markdown",
   "metadata": {},
   "source": [
    "It was very interesting to discover that Seniors group brings the least revenues in all countries except Australia."
   ]
  },
  {
   "cell_type": "markdown",
   "metadata": {},
   "source": [
    "## What is the revenue structure in different age group by category?"
   ]
  },
  {
   "cell_type": "markdown",
   "metadata": {},
   "source": [
    "Here I decided to use the bar chart with the ability to change the product category so that we could see the most popular age group between the categories.\n",
    "Also we can see how each age group differs in revenue over the categories.\n",
    "This type of diagram was the most convinient to answer the question and to make research about the revenue structure in age groups."
   ]
  },
  {
   "cell_type": "code",
   "execution_count": 28,
   "metadata": {},
   "outputs": [],
   "source": [
    "df5 = df[['Age_Group', 'Product_Category','Revenue']]"
   ]
  },
  {
   "cell_type": "code",
   "execution_count": 29,
   "metadata": {},
   "outputs": [],
   "source": [
    "df5 = df5.groupby(['Product_Category','Age_Group']).sum()['Revenue'].reset_index() "
   ]
  },
  {
   "cell_type": "code",
   "execution_count": 30,
   "metadata": {},
   "outputs": [],
   "source": [
    "input_dropdown = alt.binding_select(options = df5.Product_Category.unique())\n",
    "select_category = alt.selection_single(fields = ['Product_Category'], bind = input_dropdown, name = 'Category:', init = {'Product_Category': 'Bikes'})"
   ]
  },
  {
   "cell_type": "code",
   "execution_count": 31,
   "metadata": {},
   "outputs": [],
   "source": [
    "c5 = alt.Chart(df5).mark_bar().encode(\n",
    "    x = alt.X('Age_Group:N',\n",
    "             axis = alt.Axis(title = 'Age Group',\n",
    "                             titleFontSize = 18, \n",
    "                             labelAngle = 0,\n",
    "                             labelFontSize = 14,\n",
    "                             titleY = 40)),\n",
    "    y = alt.Y('Revenue:Q',\n",
    "             axis = alt.Axis(titleFontSize = 18,\n",
    "                             labelFontSize = 14,\n",
    "                             titleX = -70,\n",
    "                             format = '.1s'),\n",
    "             scale = alt.Scale(domain = [df5.Revenue.min(), df5.Revenue.max()])),\n",
    "    color=alt.Color('Revenue:Q',\n",
    "                   legend = alt.Legend(title = 'Revenue', \n",
    "                                       titleFontSize = 17,\n",
    "                                       format = '.1s')),\n",
    "                   tooltip = alt.Tooltip('Revenue:Q', \n",
    "                                        format = '.3s')\n",
    ").transform_filter(select_category\n",
    ").add_selection(select_category\n",
    ").properties(title = 'Product ravenue by age group',\n",
    "             width = 800,\n",
    "             height = 600,\n",
    "             background = '#F9F9F9',\n",
    "             padding = 25\n",
    ").configure_title(fontSize = 18,\n",
    "                  dy = -25)"
   ]
  },
  {
   "cell_type": "code",
   "execution_count": 38,
   "metadata": {},
   "outputs": [
    {
     "data": {
      "text/html": [
       "\n",
       "<div id=\"altair-viz-8cb7c6fc4d4d437996e0623c1d9b5863\"></div>\n",
       "<script type=\"text/javascript\">\n",
       "  (function(spec, embedOpt){\n",
       "    let outputDiv = document.currentScript.previousElementSibling;\n",
       "    if (outputDiv.id !== \"altair-viz-8cb7c6fc4d4d437996e0623c1d9b5863\") {\n",
       "      outputDiv = document.getElementById(\"altair-viz-8cb7c6fc4d4d437996e0623c1d9b5863\");\n",
       "    }\n",
       "    const paths = {\n",
       "      \"vega\": \"https://cdn.jsdelivr.net/npm//vega@5?noext\",\n",
       "      \"vega-lib\": \"https://cdn.jsdelivr.net/npm//vega-lib?noext\",\n",
       "      \"vega-lite\": \"https://cdn.jsdelivr.net/npm//vega-lite@4.8.1?noext\",\n",
       "      \"vega-embed\": \"https://cdn.jsdelivr.net/npm//vega-embed@6?noext\",\n",
       "    };\n",
       "\n",
       "    function loadScript(lib) {\n",
       "      return new Promise(function(resolve, reject) {\n",
       "        var s = document.createElement('script');\n",
       "        s.src = paths[lib];\n",
       "        s.async = true;\n",
       "        s.onload = () => resolve(paths[lib]);\n",
       "        s.onerror = () => reject(`Error loading script: ${paths[lib]}`);\n",
       "        document.getElementsByTagName(\"head\")[0].appendChild(s);\n",
       "      });\n",
       "    }\n",
       "\n",
       "    function showError(err) {\n",
       "      outputDiv.innerHTML = `<div class=\"error\" style=\"color:red;\">${err}</div>`;\n",
       "      throw err;\n",
       "    }\n",
       "\n",
       "    function displayChart(vegaEmbed) {\n",
       "      vegaEmbed(outputDiv, spec, embedOpt)\n",
       "        .catch(err => showError(`Javascript Error: ${err.message}<br>This usually means there's a typo in your chart specification. See the javascript console for the full traceback.`));\n",
       "    }\n",
       "\n",
       "    if(typeof define === \"function\" && define.amd) {\n",
       "      requirejs.config({paths});\n",
       "      require([\"vega-embed\"], displayChart, err => showError(`Error loading script: ${err.message}`));\n",
       "    } else if (typeof vegaEmbed === \"function\") {\n",
       "      displayChart(vegaEmbed);\n",
       "    } else {\n",
       "      loadScript(\"vega\")\n",
       "        .then(() => loadScript(\"vega-lite\"))\n",
       "        .then(() => loadScript(\"vega-embed\"))\n",
       "        .catch(showError)\n",
       "        .then(() => displayChart(vegaEmbed));\n",
       "    }\n",
       "  })({\"config\": {\"view\": {\"continuousWidth\": 400, \"continuousHeight\": 300}, \"title\": {\"dy\": -25, \"fontSize\": 18}}, \"data\": {\"name\": \"data-ae85c22b6127b56bb609b625fae07f3f\"}, \"mark\": \"bar\", \"background\": \"#F9F9F9\", \"encoding\": {\"color\": {\"type\": \"quantitative\", \"field\": \"Revenue\", \"legend\": {\"format\": \".1s\", \"title\": \"Revenue\", \"titleFontSize\": 17}}, \"tooltip\": {\"type\": \"quantitative\", \"field\": \"Revenue\", \"format\": \".3s\"}, \"x\": {\"type\": \"nominal\", \"axis\": {\"labelAngle\": 0, \"labelFontSize\": 14, \"title\": \"Age Group\", \"titleFontSize\": 18, \"titleY\": 40}, \"field\": \"Age_Group\"}, \"y\": {\"type\": \"quantitative\", \"axis\": {\"format\": \".1s\", \"labelFontSize\": 14, \"titleFontSize\": 18, \"titleX\": -70}, \"field\": \"Revenue\", \"scale\": {\"domain\": [48229, 30336167]}}}, \"height\": 600, \"padding\": 25, \"selection\": {\"Category:\": {\"type\": \"single\", \"fields\": [\"Product_Category\"], \"bind\": {\"input\": \"select\", \"options\": [\"Accessories\", \"Bikes\", \"Clothing\"]}, \"init\": {\"Product_Category\": \"Bikes\"}}}, \"title\": \"Product ravenue by age group\", \"transform\": [{\"filter\": {\"selection\": \"Category:\"}}], \"width\": 800, \"$schema\": \"https://vega.github.io/schema/vega-lite/v4.8.1.json\", \"datasets\": {\"data-ae85c22b6127b56bb609b625fae07f3f\": [{\"Product_Category\": \"Accessories\", \"Age_Group\": \"Adults (35-64)\", \"Revenue\": 7846731}, {\"Product_Category\": \"Accessories\", \"Age_Group\": \"Seniors (64+)\", \"Revenue\": 124754}, {\"Product_Category\": \"Accessories\", \"Age_Group\": \"Young Adults (25-34)\", \"Revenue\": 4998941}, {\"Product_Category\": \"Accessories\", \"Age_Group\": \"Youth (<25)\", \"Revenue\": 2147566}, {\"Product_Category\": \"Bikes\", \"Age_Group\": \"Adults (35-64)\", \"Revenue\": 30336167}, {\"Product_Category\": \"Bikes\", \"Age_Group\": \"Seniors (64+)\", \"Revenue\": 135059}, {\"Product_Category\": \"Bikes\", \"Age_Group\": \"Young Adults (25-34)\", \"Revenue\": 22915556}, {\"Product_Category\": \"Bikes\", \"Age_Group\": \"Youth (<25)\", \"Revenue\": 8395352}, {\"Product_Category\": \"Clothing\", \"Age_Group\": \"Adults (35-64)\", \"Revenue\": 4401255}, {\"Product_Category\": \"Clothing\", \"Age_Group\": \"Seniors (64+)\", \"Revenue\": 48229}, {\"Product_Category\": \"Clothing\", \"Age_Group\": \"Young Adults (25-34)\", \"Revenue\": 2741117}, {\"Product_Category\": \"Clothing\", \"Age_Group\": \"Youth (<25)\", \"Revenue\": 1180281}]}}, {\"mode\": \"vega-lite\"});\n",
       "</script>"
      ],
      "text/plain": [
       "alt.Chart(...)"
      ]
     },
     "execution_count": 38,
     "metadata": {},
     "output_type": "execute_result"
    }
   ],
   "source": [
    "c5"
   ]
  },
  {
   "cell_type": "markdown",
   "metadata": {},
   "source": [
    "We can conclude that adult people of 35-64 years old are the most interested in buying our products."
   ]
  },
  {
   "cell_type": "code",
   "execution_count": null,
   "metadata": {},
   "outputs": [],
   "source": []
  }
 ],
 "metadata": {
  "kernelspec": {
   "display_name": "Python 3",
   "language": "python",
   "name": "python3"
  },
  "language_info": {
   "codemirror_mode": {
    "name": "ipython",
    "version": 3
   },
   "file_extension": ".py",
   "mimetype": "text/x-python",
   "name": "python",
   "nbconvert_exporter": "python",
   "pygments_lexer": "ipython3",
   "version": "3.6.5"
  }
 },
 "nbformat": 4,
 "nbformat_minor": 2
}
